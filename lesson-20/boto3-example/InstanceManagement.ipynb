{
 "cells": [
  {
   "cell_type": "code",
   "execution_count": 2,
   "id": "e736a1e2-2cfa-4a31-bf3a-d8bd4ec6d4b0",
   "metadata": {
    "tags": []
   },
   "outputs": [
    {
     "name": "stdout",
     "output_type": "stream",
     "text": [
      "Requirement already satisfied: requests in /opt/conda/lib/python3.10/site-packages (from -r requirements.txt (line 1)) (2.28.2)\n",
      "Requirement already satisfied: boto3 in /opt/conda/lib/python3.10/site-packages (from -r requirements.txt (line 2)) (1.26.117)\n",
      "Requirement already satisfied: certifi>=2017.4.17 in /opt/conda/lib/python3.10/site-packages (from requests->-r requirements.txt (line 1)) (2022.12.7)\n",
      "Requirement already satisfied: urllib3<1.27,>=1.21.1 in /opt/conda/lib/python3.10/site-packages (from requests->-r requirements.txt (line 1)) (1.26.15)\n",
      "Requirement already satisfied: charset-normalizer<4,>=2 in /opt/conda/lib/python3.10/site-packages (from requests->-r requirements.txt (line 1)) (3.1.0)\n",
      "Requirement already satisfied: idna<4,>=2.5 in /opt/conda/lib/python3.10/site-packages (from requests->-r requirements.txt (line 1)) (3.4)\n",
      "Requirement already satisfied: botocore<1.30.0,>=1.29.117 in /opt/conda/lib/python3.10/site-packages (from boto3->-r requirements.txt (line 2)) (1.29.117)\n",
      "Requirement already satisfied: jmespath<2.0.0,>=0.7.1 in /opt/conda/lib/python3.10/site-packages (from boto3->-r requirements.txt (line 2)) (1.0.1)\n",
      "Requirement already satisfied: s3transfer<0.7.0,>=0.6.0 in /opt/conda/lib/python3.10/site-packages (from boto3->-r requirements.txt (line 2)) (0.6.0)\n",
      "Requirement already satisfied: python-dateutil<3.0.0,>=2.1 in /opt/conda/lib/python3.10/site-packages (from botocore<1.30.0,>=1.29.117->boto3->-r requirements.txt (line 2)) (2.8.2)\n",
      "Requirement already satisfied: six>=1.5 in /opt/conda/lib/python3.10/site-packages (from python-dateutil<3.0.0,>=2.1->botocore<1.30.0,>=1.29.117->boto3->-r requirements.txt (line 2)) (1.16.0)\n"
     ]
    }
   ],
   "source": [
    "import sys\n",
    "import subprocess\n",
    "\n",
    "exit_code = subprocess.check_call([sys.executable, \"-m\", \"pip\", \"install\", \"-r\", \"requirements.txt\"])\n",
    "if exit_code:\n",
    "    raise Exception(\"Non-zero return code when installing the dependencies, please try reinstalling them manually\")"
   ]
  },
  {
   "cell_type": "code",
   "execution_count": 15,
   "id": "916bfd56-e695-496d-bae4-2fcd23a29f8b",
   "metadata": {
    "tags": []
   },
   "outputs": [
    {
     "name": "stdout",
     "output_type": "stream",
     "text": [
      "Launched instances with ids: i-0c02618e58ba405c5\n",
      "Instances with ids: i-0c02618e58ba405c5 are up and running\n"
     ]
    }
   ],
   "source": [
    "import boto3\n",
    "\n",
    "ami_id = \"ami-039622d68c309bd08\"\n",
    "\n",
    "ec2_client = boto3.client(\"ec2\", \"us-east-1\")\n",
    "\n",
    "\n",
    "output = ec2_client.run_instances(\n",
    "  MaxCount=1,\n",
    "  MinCount=1,\n",
    "  InstanceType=\"t3.micro\",\n",
    "  ImageId=ami_id,\n",
    ")\n",
    "\n",
    "instance_ids = list(map(lambda i : i.get(\"InstanceId\"), output.get(\"Instances\")))\n",
    "print(f\"Launched instances with ids: {' '.join(instance_ids)}\")\n",
    "\n",
    "jdun = ec2_client.get_waiter(\"instance_running\")\n",
    "jdun.wait(InstanceIds=instance_ids)\n",
    "print(f\"Instances with ids: {' '.join(instance_ids)} are up and running\")"
   ]
  },
  {
   "cell_type": "code",
   "execution_count": 16,
   "id": "3231f728-439f-4f4d-8d52-526b3a615b35",
   "metadata": {
    "tags": []
   },
   "outputs": [
    {
     "name": "stdout",
     "output_type": "stream",
     "text": [
      "54.91.99.110\n"
     ]
    }
   ],
   "source": [
    "ec2_resource = boto3.resource(\"ec2\", \"us-east-1\")\n",
    "instance = ec2_resource.Instance(instance_ids[0])\n",
    "print(instance.public_ip_address)"
   ]
  },
  {
   "cell_type": "markdown",
   "id": "1b547577-e320-4bb3-a013-85e18f1974f9",
   "metadata": {},
   "source": [
    "**Terminate** instances and wait until they are down:"
   ]
  },
  {
   "cell_type": "code",
   "execution_count": 17,
   "id": "3d818b13-0e0b-4e1e-a676-8343a46e0fb3",
   "metadata": {
    "tags": []
   },
   "outputs": [
    {
     "name": "stdout",
     "output_type": "stream",
     "text": [
      "Instances with ids: i-0c02618e58ba405c5 are terminated\n"
     ]
    }
   ],
   "source": [
    "ec2_client.terminate_instances(InstanceIds=instance_ids)\n",
    "jdun = ec2_client.get_waiter(\"instance_terminated\")\n",
    "jdun.wait(InstanceIds=instance_ids)\n",
    "print(f\"Instances with ids: {' '.join(instance_ids)} are terminated\")"
   ]
  }
 ],
 "metadata": {
  "kernelspec": {
   "display_name": "Python 3 (ipykernel)",
   "language": "python",
   "name": "python3"
  },
  "language_info": {
   "codemirror_mode": {
    "name": "ipython",
    "version": 3
   },
   "file_extension": ".py",
   "mimetype": "text/x-python",
   "name": "python",
   "nbconvert_exporter": "python",
   "pygments_lexer": "ipython3",
   "version": "3.10.10"
  }
 },
 "nbformat": 4,
 "nbformat_minor": 5
}
